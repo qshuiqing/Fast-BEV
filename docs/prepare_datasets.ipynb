{
 "cells": [
  {
   "cell_type": "code",
   "execution_count": null,
   "outputs": [],
   "source": [
    "# 验证fastbev pkl文件\n",
    "# 通过验证，发现fastbev pkl文件中标注信息是在雷达坐标系下\n",
    "\n",
    "from nuscenes.nuscenes import NuScenes\n",
    "\n",
    "# 创建NuScenes实例\n",
    "nusc = NuScenes(version='v1.0-trainval', dataroot='../data/nuscenes', verbose=True)"
   ],
   "metadata": {
    "collapsed": false
   },
   "id": "43d7eec30336d80"
  },
  {
   "cell_type": "code",
   "execution_count": 18,
   "outputs": [],
   "source": [
    "sample = nusc.sample[0]\n",
    "\n",
    "sd_rec = nusc.get('sample_data', sample['data']['LIDAR_TOP'])\n",
    "# lidar to ego\n",
    "cs_record = nusc.get('calibrated_sensor', sd_rec['calibrated_sensor_token'])\n",
    "# ego to global\n",
    "pose_record = nusc.get('ego_pose', sd_rec['ego_pose_token'])"
   ],
   "metadata": {
    "collapsed": false,
    "ExecuteTime": {
     "end_time": "2024-05-08T08:56:03.495775400Z",
     "start_time": "2024-05-08T08:56:03.472758600Z"
    }
   },
   "id": "e7f71a73b7c56051"
  },
  {
   "cell_type": "code",
   "execution_count": 19,
   "outputs": [
    {
     "data": {
      "text/plain": "label: nan, score: nan, xyz: [-16.18, -1.17, -1.24], wlh: [0.30, 0.29, 0.73], rot axis: [0.00, 0.00, -1.00], ang(degrees): 168.18, ang(rad): 2.94, vel: nan, nan, nan, name: movable_object.trafficcone, token: 173a50411564442ab195e132472fde71"
     },
     "execution_count": 19,
     "metadata": {},
     "output_type": "execute_result"
    }
   ],
   "source": [
    "import numpy as np\n",
    "from pyquaternion import Quaternion\n",
    "\n",
    "# 获取样本0\n",
    "ann_token = sample['anns'][0]\n",
    "\n",
    "# global坐标系\n",
    "box = nusc.get_box(ann_token)\n",
    "# global to ego\n",
    "box.translate(-np.array(pose_record['translation']))\n",
    "box.rotate(Quaternion(pose_record['rotation']).inverse)\n",
    "# ego to lidar\n",
    "box.translate(-np.array(cs_record['translation']))\n",
    "box.rotate(Quaternion(cs_record['rotation']).inverse)\n",
    "\n",
    "box"
   ],
   "metadata": {
    "collapsed": false,
    "ExecuteTime": {
     "end_time": "2024-05-08T08:56:05.136769400Z",
     "start_time": "2024-05-08T08:56:05.092655500Z"
    }
   },
   "id": "a2f6c04e3fbc5539"
  },
  {
   "cell_type": "code",
   "execution_count": 22,
   "outputs": [
    {
     "data": {
      "text/plain": "array([[-1.61843454e+01, -1.17404151e+00, -1.24046699e+00,\n         3.00000000e-01,  2.91000000e-01,  7.34000000e-01,\n         1.36454530e+00],\n       [-1.54493912e+01, -4.28768163e+00, -1.30136452e+00,\n         3.15000000e-01,  3.38000000e-01,  7.12000000e-01,\n         1.25993027e+00],\n       [-1.02275670e+01,  1.94608211e+01,  3.74364245e-02,\n         2.31200000e+00,  7.51600000e+00,  3.09300000e+00,\n        -9.64160250e-01],\n       [ 9.21442005e+00, -5.57960735e+00, -1.07856950e+00,\n         1.63800000e+00,  4.25000000e+00,  1.44000000e+00,\n        -1.92929242e+00],\n       [-1.57271212e+01, -8.16090985e-01, -6.97936424e-01,\n         7.39000000e-01,  5.63000000e-01,  1.71100000e+00,\n         1.36454530e+00],\n       [ 3.84646471e-01, -1.32284491e+01, -1.21462740e+00,\n         1.87100000e+00,  4.47800000e+00,  1.45600000e+00,\n        -2.66400622e+00],\n       [-4.75276596e+01,  3.51366615e+01,  6.94957388e-01,\n         2.87700000e+00,  6.37200000e+00,  2.97800000e+00,\n        -4.15994538e+00],\n       [-1.61056541e+01, -7.16475402e-02, -6.86282715e-01,\n         6.65000000e-01,  5.44000000e-01,  1.73900000e+00,\n         1.36454530e+00],\n       [-1.59411481e+01, -2.44787704e+00, -1.28580015e+00,\n         3.38000000e-01,  3.09000000e-01,  7.12000000e-01,\n         1.35797555e+00],\n       [-1.93828613e+01,  2.55393813e+01,  3.19190807e-02,\n         2.15600000e+00,  6.22700000e+00,  2.60100000e+00,\n        -1.05999628e+00]])"
     },
     "execution_count": 22,
     "metadata": {},
     "output_type": "execute_result"
    }
   ],
   "source": [
    "import mmcv\n",
    "mmcv.load('../data/nuscenes/pkl/nuscenes_infos_train_4d_interval3_max60.pkl')['infos'][0]['gt_boxes']"
   ],
   "metadata": {
    "collapsed": false,
    "ExecuteTime": {
     "end_time": "2024-05-08T08:58:20.246107Z",
     "start_time": "2024-05-08T08:58:08.876466900Z"
    }
   },
   "id": "d13fdff5829da693"
  }
 ],
 "metadata": {
  "kernelspec": {
   "display_name": "Python 3",
   "language": "python",
   "name": "python3"
  },
  "language_info": {
   "codemirror_mode": {
    "name": "ipython",
    "version": 2
   },
   "file_extension": ".py",
   "mimetype": "text/x-python",
   "name": "python",
   "nbconvert_exporter": "python",
   "pygments_lexer": "ipython2",
   "version": "2.7.6"
  }
 },
 "nbformat": 4,
 "nbformat_minor": 5
}
